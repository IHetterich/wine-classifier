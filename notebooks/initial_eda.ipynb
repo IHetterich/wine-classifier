{
 "cells": [
  {
   "cell_type": "code",
   "execution_count": 1,
   "metadata": {},
   "outputs": [],
   "source": [
    "import numpy as np\n",
    "import pandas as pd\n",
    "import matplotlib.pyplot as plt\n"
   ]
  },
  {
   "cell_type": "code",
   "execution_count": 2,
   "metadata": {},
   "outputs": [],
   "source": [
    "df1 = pd.read_csv('../data/winemag-data-130k-v2.csv')\n",
    "df2 = pd.read_csv('../data/winemag-data_first150k.csv')"
   ]
  },
  {
   "cell_type": "code",
   "execution_count": 74,
   "metadata": {},
   "outputs": [
    {
     "data": {
      "text/plain": [
       "count                                                129971\n",
       "unique                                               119955\n",
       "top       Stalky aromas suggest hay and green herbs, wit...\n",
       "freq                                                      3\n",
       "Name: description, dtype: object"
      ]
     },
     "execution_count": 74,
     "metadata": {},
     "output_type": "execute_result"
    }
   ],
   "source": [
    "df1['description'].describe()"
   ]
  },
  {
   "cell_type": "code",
   "execution_count": 3,
   "metadata": {},
   "outputs": [],
   "source": [
    "clean_df1 = df1.drop_duplicates(subset='description')"
   ]
  },
  {
   "cell_type": "code",
   "execution_count": 4,
   "metadata": {},
   "outputs": [],
   "source": [
    "clean_df2 = df2.drop_duplicates(subset='description')"
   ]
  },
  {
   "cell_type": "code",
   "execution_count": 5,
   "metadata": {},
   "outputs": [],
   "source": [
    "df3 = pd.concat([clean_df1, clean_df2])"
   ]
  },
  {
   "cell_type": "code",
   "execution_count": 6,
   "metadata": {},
   "outputs": [],
   "source": [
    "df4 = df3.drop_duplicates(subset='description')"
   ]
  },
  {
   "cell_type": "code",
   "execution_count": 9,
   "metadata": {},
   "outputs": [
    {
     "data": {
      "text/html": [
       "<div>\n",
       "<style scoped>\n",
       "    .dataframe tbody tr th:only-of-type {\n",
       "        vertical-align: middle;\n",
       "    }\n",
       "\n",
       "    .dataframe tbody tr th {\n",
       "        vertical-align: top;\n",
       "    }\n",
       "\n",
       "    .dataframe thead th {\n",
       "        text-align: right;\n",
       "    }\n",
       "</style>\n",
       "<table border=\"1\" class=\"dataframe\">\n",
       "  <thead>\n",
       "    <tr style=\"text-align: right;\">\n",
       "      <th></th>\n",
       "      <th>country</th>\n",
       "      <th>description</th>\n",
       "      <th>designation</th>\n",
       "      <th>points</th>\n",
       "      <th>price</th>\n",
       "      <th>province</th>\n",
       "      <th>region_1</th>\n",
       "      <th>region_2</th>\n",
       "      <th>taster_name</th>\n",
       "      <th>taster_twitter_handle</th>\n",
       "      <th>title</th>\n",
       "      <th>variety</th>\n",
       "      <th>winery</th>\n",
       "    </tr>\n",
       "  </thead>\n",
       "  <tbody>\n",
       "    <tr>\n",
       "      <th>0</th>\n",
       "      <td>Italy</td>\n",
       "      <td>Aromas include tropical fruit, broom, brimston...</td>\n",
       "      <td>Vulkà Bianco</td>\n",
       "      <td>87</td>\n",
       "      <td>NaN</td>\n",
       "      <td>Sicily &amp; Sardinia</td>\n",
       "      <td>Etna</td>\n",
       "      <td>NaN</td>\n",
       "      <td>Kerin O’Keefe</td>\n",
       "      <td>@kerinokeefe</td>\n",
       "      <td>Nicosia 2013 Vulkà Bianco  (Etna)</td>\n",
       "      <td>White Blend</td>\n",
       "      <td>Nicosia</td>\n",
       "    </tr>\n",
       "    <tr>\n",
       "      <th>1</th>\n",
       "      <td>Portugal</td>\n",
       "      <td>This is ripe and fruity, a wine that is smooth...</td>\n",
       "      <td>Avidagos</td>\n",
       "      <td>87</td>\n",
       "      <td>15.0</td>\n",
       "      <td>Douro</td>\n",
       "      <td>NaN</td>\n",
       "      <td>NaN</td>\n",
       "      <td>Roger Voss</td>\n",
       "      <td>@vossroger</td>\n",
       "      <td>Quinta dos Avidagos 2011 Avidagos Red (Douro)</td>\n",
       "      <td>Portuguese Red</td>\n",
       "      <td>Quinta dos Avidagos</td>\n",
       "    </tr>\n",
       "    <tr>\n",
       "      <th>2</th>\n",
       "      <td>US</td>\n",
       "      <td>Tart and snappy, the flavors of lime flesh and...</td>\n",
       "      <td>NaN</td>\n",
       "      <td>87</td>\n",
       "      <td>14.0</td>\n",
       "      <td>Oregon</td>\n",
       "      <td>Willamette Valley</td>\n",
       "      <td>Willamette Valley</td>\n",
       "      <td>Paul Gregutt</td>\n",
       "      <td>@paulgwine</td>\n",
       "      <td>Rainstorm 2013 Pinot Gris (Willamette Valley)</td>\n",
       "      <td>Pinot Gris</td>\n",
       "      <td>Rainstorm</td>\n",
       "    </tr>\n",
       "    <tr>\n",
       "      <th>3</th>\n",
       "      <td>US</td>\n",
       "      <td>Pineapple rind, lemon pith and orange blossom ...</td>\n",
       "      <td>Reserve Late Harvest</td>\n",
       "      <td>87</td>\n",
       "      <td>13.0</td>\n",
       "      <td>Michigan</td>\n",
       "      <td>Lake Michigan Shore</td>\n",
       "      <td>NaN</td>\n",
       "      <td>Alexander Peartree</td>\n",
       "      <td>NaN</td>\n",
       "      <td>St. Julian 2013 Reserve Late Harvest Riesling ...</td>\n",
       "      <td>Riesling</td>\n",
       "      <td>St. Julian</td>\n",
       "    </tr>\n",
       "    <tr>\n",
       "      <th>4</th>\n",
       "      <td>US</td>\n",
       "      <td>Much like the regular bottling from 2012, this...</td>\n",
       "      <td>Vintner's Reserve Wild Child Block</td>\n",
       "      <td>87</td>\n",
       "      <td>65.0</td>\n",
       "      <td>Oregon</td>\n",
       "      <td>Willamette Valley</td>\n",
       "      <td>Willamette Valley</td>\n",
       "      <td>Paul Gregutt</td>\n",
       "      <td>@paulgwine</td>\n",
       "      <td>Sweet Cheeks 2012 Vintner's Reserve Wild Child...</td>\n",
       "      <td>Pinot Noir</td>\n",
       "      <td>Sweet Cheeks</td>\n",
       "    </tr>\n",
       "    <tr>\n",
       "      <th>...</th>\n",
       "      <td>...</td>\n",
       "      <td>...</td>\n",
       "      <td>...</td>\n",
       "      <td>...</td>\n",
       "      <td>...</td>\n",
       "      <td>...</td>\n",
       "      <td>...</td>\n",
       "      <td>...</td>\n",
       "      <td>...</td>\n",
       "      <td>...</td>\n",
       "      <td>...</td>\n",
       "      <td>...</td>\n",
       "      <td>...</td>\n",
       "    </tr>\n",
       "    <tr>\n",
       "      <th>149635</th>\n",
       "      <td>US</td>\n",
       "      <td>A Syrah-Grenache blend that's dry and rustical...</td>\n",
       "      <td>Bungalow Red</td>\n",
       "      <td>84</td>\n",
       "      <td>15.0</td>\n",
       "      <td>California</td>\n",
       "      <td>Santa Barbara County</td>\n",
       "      <td>Central Coast</td>\n",
       "      <td>NaN</td>\n",
       "      <td>NaN</td>\n",
       "      <td>NaN</td>\n",
       "      <td>Syrah-Grenache</td>\n",
       "      <td>Casa Barranca</td>\n",
       "    </tr>\n",
       "    <tr>\n",
       "      <th>149636</th>\n",
       "      <td>Portugal</td>\n",
       "      <td>Oreo eaters will enjoy the aromas of this wine...</td>\n",
       "      <td>30-year old tawny</td>\n",
       "      <td>84</td>\n",
       "      <td>NaN</td>\n",
       "      <td>Port</td>\n",
       "      <td>NaN</td>\n",
       "      <td>NaN</td>\n",
       "      <td>NaN</td>\n",
       "      <td>NaN</td>\n",
       "      <td>NaN</td>\n",
       "      <td>Port</td>\n",
       "      <td>Casa Santa Eufemia</td>\n",
       "    </tr>\n",
       "    <tr>\n",
       "      <th>149637</th>\n",
       "      <td>US</td>\n",
       "      <td>Outside of the vineyard, wines like this are w...</td>\n",
       "      <td>NaN</td>\n",
       "      <td>84</td>\n",
       "      <td>6.0</td>\n",
       "      <td>California</td>\n",
       "      <td>California</td>\n",
       "      <td>California Other</td>\n",
       "      <td>NaN</td>\n",
       "      <td>NaN</td>\n",
       "      <td>NaN</td>\n",
       "      <td>Merlot</td>\n",
       "      <td>Delicato</td>\n",
       "    </tr>\n",
       "    <tr>\n",
       "      <th>149638</th>\n",
       "      <td>Argentina</td>\n",
       "      <td>Heavy and basic, with melon and pineapple arom...</td>\n",
       "      <td>NaN</td>\n",
       "      <td>84</td>\n",
       "      <td>9.0</td>\n",
       "      <td>Mendoza Province</td>\n",
       "      <td>Uco Valley</td>\n",
       "      <td>NaN</td>\n",
       "      <td>NaN</td>\n",
       "      <td>NaN</td>\n",
       "      <td>NaN</td>\n",
       "      <td>Sauvignon Blanc</td>\n",
       "      <td>Finca El Portillo</td>\n",
       "    </tr>\n",
       "    <tr>\n",
       "      <th>149639</th>\n",
       "      <td>Australia</td>\n",
       "      <td>Smooth in the mouth, this Chard starts off wit...</td>\n",
       "      <td>NaN</td>\n",
       "      <td>84</td>\n",
       "      <td>8.0</td>\n",
       "      <td>Australia Other</td>\n",
       "      <td>South Eastern Australia</td>\n",
       "      <td>NaN</td>\n",
       "      <td>NaN</td>\n",
       "      <td>NaN</td>\n",
       "      <td>NaN</td>\n",
       "      <td>Chardonnay</td>\n",
       "      <td>Jacob's Creek</td>\n",
       "    </tr>\n",
       "  </tbody>\n",
       "</table>\n",
       "<p>169430 rows × 13 columns</p>\n",
       "</div>"
      ],
      "text/plain": [
       "          country                                        description  \\\n",
       "0           Italy  Aromas include tropical fruit, broom, brimston...   \n",
       "1        Portugal  This is ripe and fruity, a wine that is smooth...   \n",
       "2              US  Tart and snappy, the flavors of lime flesh and...   \n",
       "3              US  Pineapple rind, lemon pith and orange blossom ...   \n",
       "4              US  Much like the regular bottling from 2012, this...   \n",
       "...           ...                                                ...   \n",
       "149635         US  A Syrah-Grenache blend that's dry and rustical...   \n",
       "149636   Portugal  Oreo eaters will enjoy the aromas of this wine...   \n",
       "149637         US  Outside of the vineyard, wines like this are w...   \n",
       "149638  Argentina  Heavy and basic, with melon and pineapple arom...   \n",
       "149639  Australia  Smooth in the mouth, this Chard starts off wit...   \n",
       "\n",
       "                               designation  points  price           province  \\\n",
       "0                             Vulkà Bianco      87    NaN  Sicily & Sardinia   \n",
       "1                                 Avidagos      87   15.0              Douro   \n",
       "2                                      NaN      87   14.0             Oregon   \n",
       "3                     Reserve Late Harvest      87   13.0           Michigan   \n",
       "4       Vintner's Reserve Wild Child Block      87   65.0             Oregon   \n",
       "...                                    ...     ...    ...                ...   \n",
       "149635                        Bungalow Red      84   15.0         California   \n",
       "149636                   30-year old tawny      84    NaN               Port   \n",
       "149637                                 NaN      84    6.0         California   \n",
       "149638                                 NaN      84    9.0   Mendoza Province   \n",
       "149639                                 NaN      84    8.0    Australia Other   \n",
       "\n",
       "                       region_1           region_2         taster_name  \\\n",
       "0                          Etna                NaN       Kerin O’Keefe   \n",
       "1                           NaN                NaN          Roger Voss   \n",
       "2             Willamette Valley  Willamette Valley        Paul Gregutt   \n",
       "3           Lake Michigan Shore                NaN  Alexander Peartree   \n",
       "4             Willamette Valley  Willamette Valley        Paul Gregutt   \n",
       "...                         ...                ...                 ...   \n",
       "149635     Santa Barbara County      Central Coast                 NaN   \n",
       "149636                      NaN                NaN                 NaN   \n",
       "149637               California   California Other                 NaN   \n",
       "149638               Uco Valley                NaN                 NaN   \n",
       "149639  South Eastern Australia                NaN                 NaN   \n",
       "\n",
       "       taster_twitter_handle  \\\n",
       "0               @kerinokeefe   \n",
       "1                 @vossroger   \n",
       "2                @paulgwine    \n",
       "3                        NaN   \n",
       "4                @paulgwine    \n",
       "...                      ...   \n",
       "149635                   NaN   \n",
       "149636                   NaN   \n",
       "149637                   NaN   \n",
       "149638                   NaN   \n",
       "149639                   NaN   \n",
       "\n",
       "                                                    title          variety  \\\n",
       "0                       Nicosia 2013 Vulkà Bianco  (Etna)      White Blend   \n",
       "1           Quinta dos Avidagos 2011 Avidagos Red (Douro)   Portuguese Red   \n",
       "2           Rainstorm 2013 Pinot Gris (Willamette Valley)       Pinot Gris   \n",
       "3       St. Julian 2013 Reserve Late Harvest Riesling ...         Riesling   \n",
       "4       Sweet Cheeks 2012 Vintner's Reserve Wild Child...       Pinot Noir   \n",
       "...                                                   ...              ...   \n",
       "149635                                                NaN   Syrah-Grenache   \n",
       "149636                                                NaN             Port   \n",
       "149637                                                NaN           Merlot   \n",
       "149638                                                NaN  Sauvignon Blanc   \n",
       "149639                                                NaN       Chardonnay   \n",
       "\n",
       "                     winery  \n",
       "0                   Nicosia  \n",
       "1       Quinta dos Avidagos  \n",
       "2                 Rainstorm  \n",
       "3                St. Julian  \n",
       "4              Sweet Cheeks  \n",
       "...                     ...  \n",
       "149635        Casa Barranca  \n",
       "149636   Casa Santa Eufemia  \n",
       "149637             Delicato  \n",
       "149638    Finca El Portillo  \n",
       "149639        Jacob's Creek  \n",
       "\n",
       "[169430 rows x 13 columns]"
      ]
     },
     "execution_count": 9,
     "metadata": {},
     "output_type": "execute_result"
    }
   ],
   "source": [
    "df4.drop('Unnamed: 0', axis=1)"
   ]
  },
  {
   "cell_type": "code",
   "execution_count": 12,
   "metadata": {},
   "outputs": [],
   "source": [
    "df = df4"
   ]
  },
  {
   "cell_type": "code",
   "execution_count": 95,
   "metadata": {},
   "outputs": [],
   "source": [
    "from collections import Counter"
   ]
  },
  {
   "cell_type": "code",
   "execution_count": 96,
   "metadata": {},
   "outputs": [],
   "source": [
    "var = Counter()"
   ]
  },
  {
   "cell_type": "code",
   "execution_count": 97,
   "metadata": {},
   "outputs": [],
   "source": [
    "var.update(df['variety'])"
   ]
  },
  {
   "cell_type": "code",
   "execution_count": 98,
   "metadata": {},
   "outputs": [],
   "source": [
    "varietals = list(var.keys())\n",
    "counts = list(var.values())\n"
   ]
  },
  {
   "cell_type": "code",
   "execution_count": 99,
   "metadata": {},
   "outputs": [
    {
     "name": "stdout",
     "output_type": "stream",
     "text": [
      "Pinot Noir: 16651\n",
      "Chardonnay: 15625\n",
      "Cabernet Sauvignon: 13262\n",
      "Red Blend: 11214\n",
      "Bordeaux-style Red Blend: 8997\n",
      "Sauvignon Blanc: 6803\n",
      "Riesling: 6602\n",
      "Syrah: 5856\n",
      "Merlot: 4757\n",
      "Rosé: 3916\n",
      "Zinfandel: 3804\n",
      "Sangiovese: 3634\n",
      "Malbec: 3439\n",
      "Nebbiolo: 3123\n",
      "White Blend: 3110\n"
     ]
    }
   ],
   "source": [
    "idx = np.argsort(counts)\n",
    "test_vars = []\n",
    "for val in idx[-1:-16:-1]:\n",
    "    print(f'{varietals[val]}: {counts[val]}')\n",
    "    test_vars.append(varietals[val])"
   ]
  },
  {
   "cell_type": "code",
   "execution_count": 40,
   "metadata": {},
   "outputs": [
    {
     "data": {
      "text/plain": [
       "110793"
      ]
     },
     "execution_count": 40,
     "metadata": {},
     "output_type": "execute_result"
    }
   ],
   "source": [
    "3110+3123+3439+3634+3804+3916+4757+5856+6602+6803+8997+11214+13262+15625+16651"
   ]
  },
  {
   "cell_type": "code",
   "execution_count": 3,
   "metadata": {},
   "outputs": [
    {
     "data": {
      "text/plain": [
       "0.6308032815912176"
      ]
     },
     "execution_count": 3,
     "metadata": {},
     "output_type": "execute_result"
    }
   ],
   "source": [
    "(110793 - 3916)/169430"
   ]
  },
  {
   "cell_type": "code",
   "execution_count": 14,
   "metadata": {},
   "outputs": [],
   "source": [
    "df = df[['description', 'variety']]"
   ]
  },
  {
   "cell_type": "code",
   "execution_count": 119,
   "metadata": {},
   "outputs": [],
   "source": [
    "varieties = set((df['variety']))\n",
    "\n",
    "# for var in varieties:\n",
    "#     var = str(var)\n",
    "# varieties = ' '.join(varieties)\n",
    "# from nltk.corpus import stopwords\n",
    "# eng_stops = set(stopwords.words('english'))"
   ]
  },
  {
   "cell_type": "code",
   "execution_count": 22,
   "metadata": {},
   "outputs": [],
   "source": [
    "full_stops = eng_stops.union(varieties)"
   ]
  },
  {
   "cell_type": "code",
   "execution_count": 84,
   "metadata": {},
   "outputs": [],
   "source": [
    "df = pd.read_csv('../data/no_dup_data.csv').drop('Unnamed: 0', axis=1)"
   ]
  },
  {
   "cell_type": "code",
   "execution_count": 86,
   "metadata": {},
   "outputs": [
    {
     "data": {
      "text/html": [
       "<div>\n",
       "<style scoped>\n",
       "    .dataframe tbody tr th:only-of-type {\n",
       "        vertical-align: middle;\n",
       "    }\n",
       "\n",
       "    .dataframe tbody tr th {\n",
       "        vertical-align: top;\n",
       "    }\n",
       "\n",
       "    .dataframe thead th {\n",
       "        text-align: right;\n",
       "    }\n",
       "</style>\n",
       "<table border=\"1\" class=\"dataframe\">\n",
       "  <thead>\n",
       "    <tr style=\"text-align: right;\">\n",
       "      <th></th>\n",
       "      <th>description</th>\n",
       "      <th>variety</th>\n",
       "    </tr>\n",
       "  </thead>\n",
       "  <tbody>\n",
       "    <tr>\n",
       "      <th>0</th>\n",
       "      <td>Aromas include tropical fruit, broom, brimston...</td>\n",
       "      <td>White Blend</td>\n",
       "    </tr>\n",
       "    <tr>\n",
       "      <th>1</th>\n",
       "      <td>This is ripe and fruity, a wine that is smooth...</td>\n",
       "      <td>Portuguese Red</td>\n",
       "    </tr>\n",
       "    <tr>\n",
       "      <th>2</th>\n",
       "      <td>Tart and snappy, the flavors of lime flesh and...</td>\n",
       "      <td>Pinot Gris</td>\n",
       "    </tr>\n",
       "    <tr>\n",
       "      <th>3</th>\n",
       "      <td>Pineapple rind, lemon pith and orange blossom ...</td>\n",
       "      <td>Riesling</td>\n",
       "    </tr>\n",
       "    <tr>\n",
       "      <th>4</th>\n",
       "      <td>Much like the regular bottling from 2012, this...</td>\n",
       "      <td>Pinot Noir</td>\n",
       "    </tr>\n",
       "    <tr>\n",
       "      <th>...</th>\n",
       "      <td>...</td>\n",
       "      <td>...</td>\n",
       "    </tr>\n",
       "    <tr>\n",
       "      <th>169425</th>\n",
       "      <td>A Syrah-Grenache blend that's dry and rustical...</td>\n",
       "      <td>Syrah-Grenache</td>\n",
       "    </tr>\n",
       "    <tr>\n",
       "      <th>169426</th>\n",
       "      <td>Oreo eaters will enjoy the aromas of this wine...</td>\n",
       "      <td>Port</td>\n",
       "    </tr>\n",
       "    <tr>\n",
       "      <th>169427</th>\n",
       "      <td>Outside of the vineyard, wines like this are w...</td>\n",
       "      <td>Merlot</td>\n",
       "    </tr>\n",
       "    <tr>\n",
       "      <th>169428</th>\n",
       "      <td>Heavy and basic, with melon and pineapple arom...</td>\n",
       "      <td>Sauvignon Blanc</td>\n",
       "    </tr>\n",
       "    <tr>\n",
       "      <th>169429</th>\n",
       "      <td>Smooth in the mouth, this Chard starts off wit...</td>\n",
       "      <td>Chardonnay</td>\n",
       "    </tr>\n",
       "  </tbody>\n",
       "</table>\n",
       "<p>169430 rows × 2 columns</p>\n",
       "</div>"
      ],
      "text/plain": [
       "                                              description          variety\n",
       "0       Aromas include tropical fruit, broom, brimston...      White Blend\n",
       "1       This is ripe and fruity, a wine that is smooth...   Portuguese Red\n",
       "2       Tart and snappy, the flavors of lime flesh and...       Pinot Gris\n",
       "3       Pineapple rind, lemon pith and orange blossom ...         Riesling\n",
       "4       Much like the regular bottling from 2012, this...       Pinot Noir\n",
       "...                                                   ...              ...\n",
       "169425  A Syrah-Grenache blend that's dry and rustical...   Syrah-Grenache\n",
       "169426  Oreo eaters will enjoy the aromas of this wine...             Port\n",
       "169427  Outside of the vineyard, wines like this are w...           Merlot\n",
       "169428  Heavy and basic, with melon and pineapple arom...  Sauvignon Blanc\n",
       "169429  Smooth in the mouth, this Chard starts off wit...       Chardonnay\n",
       "\n",
       "[169430 rows x 2 columns]"
      ]
     },
     "execution_count": 86,
     "metadata": {},
     "output_type": "execute_result"
    }
   ],
   "source": [
    "df"
   ]
  },
  {
   "cell_type": "code",
   "execution_count": 89,
   "metadata": {},
   "outputs": [],
   "source": [
    "df.dropna(inplace=True)"
   ]
  },
  {
   "cell_type": "code",
   "execution_count": 113,
   "metadata": {},
   "outputs": [],
   "source": [
    "varieties = list(df['variety'])"
   ]
  },
  {
   "cell_type": "code",
   "execution_count": 161,
   "metadata": {},
   "outputs": [],
   "source": [
    "varieties = set(' '.join(varieties).replace('-','').split())\n",
    "# varieties.remove('apple')"
   ]
  },
  {
   "cell_type": "code",
   "execution_count": 216,
   "metadata": {},
   "outputs": [
    {
     "data": {
      "text/html": [
       "<div>\n",
       "<style scoped>\n",
       "    .dataframe tbody tr th:only-of-type {\n",
       "        vertical-align: middle;\n",
       "    }\n",
       "\n",
       "    .dataframe tbody tr th {\n",
       "        vertical-align: top;\n",
       "    }\n",
       "\n",
       "    .dataframe thead th {\n",
       "        text-align: right;\n",
       "    }\n",
       "</style>\n",
       "<table border=\"1\" class=\"dataframe\">\n",
       "  <thead>\n",
       "    <tr style=\"text-align: right;\">\n",
       "      <th></th>\n",
       "      <th>Unnamed: 0</th>\n",
       "      <th>description</th>\n",
       "      <th>variety</th>\n",
       "    </tr>\n",
       "  </thead>\n",
       "  <tbody>\n",
       "    <tr>\n",
       "      <th>0</th>\n",
       "      <td>0</td>\n",
       "      <td>Aromas include tropical fruit, broom, brimston...</td>\n",
       "      <td>White Blend</td>\n",
       "    </tr>\n",
       "    <tr>\n",
       "      <th>1</th>\n",
       "      <td>1</td>\n",
       "      <td>This is ripe and fruity, a wine that is smooth...</td>\n",
       "      <td>Portuguese Red</td>\n",
       "    </tr>\n",
       "    <tr>\n",
       "      <th>2</th>\n",
       "      <td>2</td>\n",
       "      <td>Tart and snappy, the flavors of lime flesh and...</td>\n",
       "      <td>Pinot Gris</td>\n",
       "    </tr>\n",
       "    <tr>\n",
       "      <th>3</th>\n",
       "      <td>3</td>\n",
       "      <td>Pineapple rind, lemon pith and orange blossom ...</td>\n",
       "      <td>Riesling</td>\n",
       "    </tr>\n",
       "    <tr>\n",
       "      <th>4</th>\n",
       "      <td>4</td>\n",
       "      <td>Much like the regular bottling from 2012, this...</td>\n",
       "      <td>Pinot Noir</td>\n",
       "    </tr>\n",
       "    <tr>\n",
       "      <th>...</th>\n",
       "      <td>...</td>\n",
       "      <td>...</td>\n",
       "      <td>...</td>\n",
       "    </tr>\n",
       "    <tr>\n",
       "      <th>169425</th>\n",
       "      <td>149635</td>\n",
       "      <td>A Syrah-Grenache blend that's dry and rustical...</td>\n",
       "      <td>Syrah-Grenache</td>\n",
       "    </tr>\n",
       "    <tr>\n",
       "      <th>169426</th>\n",
       "      <td>149636</td>\n",
       "      <td>Oreo eaters will enjoy the aromas of this wine...</td>\n",
       "      <td>Port</td>\n",
       "    </tr>\n",
       "    <tr>\n",
       "      <th>169427</th>\n",
       "      <td>149637</td>\n",
       "      <td>Outside of the vineyard, wines like this are w...</td>\n",
       "      <td>Merlot</td>\n",
       "    </tr>\n",
       "    <tr>\n",
       "      <th>169428</th>\n",
       "      <td>149638</td>\n",
       "      <td>Heavy and basic, with melon and pineapple arom...</td>\n",
       "      <td>Sauvignon Blanc</td>\n",
       "    </tr>\n",
       "    <tr>\n",
       "      <th>169429</th>\n",
       "      <td>149639</td>\n",
       "      <td>Smooth in the mouth, this Chard starts off wit...</td>\n",
       "      <td>Chardonnay</td>\n",
       "    </tr>\n",
       "  </tbody>\n",
       "</table>\n",
       "<p>169429 rows × 3 columns</p>\n",
       "</div>"
      ],
      "text/plain": [
       "        Unnamed: 0                                        description  \\\n",
       "0                0  Aromas include tropical fruit, broom, brimston...   \n",
       "1                1  This is ripe and fruity, a wine that is smooth...   \n",
       "2                2  Tart and snappy, the flavors of lime flesh and...   \n",
       "3                3  Pineapple rind, lemon pith and orange blossom ...   \n",
       "4                4  Much like the regular bottling from 2012, this...   \n",
       "...            ...                                                ...   \n",
       "169425      149635  A Syrah-Grenache blend that's dry and rustical...   \n",
       "169426      149636  Oreo eaters will enjoy the aromas of this wine...   \n",
       "169427      149637  Outside of the vineyard, wines like this are w...   \n",
       "169428      149638  Heavy and basic, with melon and pineapple arom...   \n",
       "169429      149639  Smooth in the mouth, this Chard starts off wit...   \n",
       "\n",
       "                variety  \n",
       "0           White Blend  \n",
       "1        Portuguese Red  \n",
       "2            Pinot Gris  \n",
       "3              Riesling  \n",
       "4            Pinot Noir  \n",
       "...                 ...  \n",
       "169425   Syrah-Grenache  \n",
       "169426             Port  \n",
       "169427           Merlot  \n",
       "169428  Sauvignon Blanc  \n",
       "169429       Chardonnay  \n",
       "\n",
       "[169429 rows x 3 columns]"
      ]
     },
     "execution_count": 216,
     "metadata": {},
     "output_type": "execute_result"
    }
   ],
   "source": [
    "test = pd.read_csv('../data/cleaned_data.csv')\n",
    "test.dropna()"
   ]
  },
  {
   "cell_type": "code",
   "execution_count": 162,
   "metadata": {},
   "outputs": [],
   "source": [
    "full_stops = list(eng_stops.union(varieties).union('chard'))"
   ]
  },
  {
   "cell_type": "code",
   "execution_count": 210,
   "metadata": {},
   "outputs": [],
   "source": [
    "from sklearn.feature_extraction.text import CountVectorizer, TfidfVectorizer\n",
    "from sklearn.naive_bayes import MultinomialNB\n",
    "from sklearn.model_selection import train_test_split\n",
    "from sklearn.ensemble import RandomForestClassifier"
   ]
  },
  {
   "cell_type": "code",
   "execution_count": 219,
   "metadata": {},
   "outputs": [
    {
     "data": {
      "text/html": [
       "<div>\n",
       "<style scoped>\n",
       "    .dataframe tbody tr th:only-of-type {\n",
       "        vertical-align: middle;\n",
       "    }\n",
       "\n",
       "    .dataframe tbody tr th {\n",
       "        vertical-align: top;\n",
       "    }\n",
       "\n",
       "    .dataframe thead th {\n",
       "        text-align: right;\n",
       "    }\n",
       "</style>\n",
       "<table border=\"1\" class=\"dataframe\">\n",
       "  <thead>\n",
       "    <tr style=\"text-align: right;\">\n",
       "      <th></th>\n",
       "      <th>description</th>\n",
       "      <th>variety</th>\n",
       "    </tr>\n",
       "  </thead>\n",
       "  <tbody>\n",
       "    <tr>\n",
       "      <th>4</th>\n",
       "      <td>Much like the regular bottling from 2012, this...</td>\n",
       "      <td>Pinot Noir</td>\n",
       "    </tr>\n",
       "    <tr>\n",
       "      <th>14</th>\n",
       "      <td>Building on 150 years and six generations of w...</td>\n",
       "      <td>Chardonnay</td>\n",
       "    </tr>\n",
       "    <tr>\n",
       "      <th>21</th>\n",
       "      <td>A sleek mix of tart berry, stem and herb, alon...</td>\n",
       "      <td>Pinot Noir</td>\n",
       "    </tr>\n",
       "    <tr>\n",
       "      <th>25</th>\n",
       "      <td>Oak and earth intermingle around robust aromas...</td>\n",
       "      <td>Pinot Noir</td>\n",
       "    </tr>\n",
       "    <tr>\n",
       "      <th>35</th>\n",
       "      <td>As with many of the Erath 2010 vineyard design...</td>\n",
       "      <td>Pinot Noir</td>\n",
       "    </tr>\n",
       "    <tr>\n",
       "      <th>...</th>\n",
       "      <td>...</td>\n",
       "      <td>...</td>\n",
       "    </tr>\n",
       "    <tr>\n",
       "      <th>169404</th>\n",
       "      <td>Deep gold in color, with nut, peach and overt ...</td>\n",
       "      <td>Chardonnay</td>\n",
       "    </tr>\n",
       "    <tr>\n",
       "      <th>169412</th>\n",
       "      <td>Yellowish in color, with a heavy, somewhat cre...</td>\n",
       "      <td>Chardonnay</td>\n",
       "    </tr>\n",
       "    <tr>\n",
       "      <th>169416</th>\n",
       "      <td>Made in a superripe style, this Chard is jammy...</td>\n",
       "      <td>Chardonnay</td>\n",
       "    </tr>\n",
       "    <tr>\n",
       "      <th>169422</th>\n",
       "      <td>Nut and white stone fruit aromas start things ...</td>\n",
       "      <td>Chardonnay</td>\n",
       "    </tr>\n",
       "    <tr>\n",
       "      <th>169429</th>\n",
       "      <td>Smooth in the mouth, this Chard starts off wit...</td>\n",
       "      <td>Chardonnay</td>\n",
       "    </tr>\n",
       "  </tbody>\n",
       "</table>\n",
       "<p>32276 rows × 2 columns</p>\n",
       "</div>"
      ],
      "text/plain": [
       "                                              description     variety\n",
       "4       Much like the regular bottling from 2012, this...  Pinot Noir\n",
       "14      Building on 150 years and six generations of w...  Chardonnay\n",
       "21      A sleek mix of tart berry, stem and herb, alon...  Pinot Noir\n",
       "25      Oak and earth intermingle around robust aromas...  Pinot Noir\n",
       "35      As with many of the Erath 2010 vineyard design...  Pinot Noir\n",
       "...                                                   ...         ...\n",
       "169404  Deep gold in color, with nut, peach and overt ...  Chardonnay\n",
       "169412  Yellowish in color, with a heavy, somewhat cre...  Chardonnay\n",
       "169416  Made in a superripe style, this Chard is jammy...  Chardonnay\n",
       "169422  Nut and white stone fruit aromas start things ...  Chardonnay\n",
       "169429  Smooth in the mouth, this Chard starts off wit...  Chardonnay\n",
       "\n",
       "[32276 rows x 2 columns]"
      ]
     },
     "execution_count": 219,
     "metadata": {},
     "output_type": "execute_result"
    }
   ],
   "source": [
    "df_test = df[df['variety'].isin(['Pinot Noir', 'Chardonnay'])]\n",
    "df_test"
   ]
  },
  {
   "cell_type": "code",
   "execution_count": 202,
   "metadata": {},
   "outputs": [],
   "source": [
    "X = df_test['description']\n",
    "y = df_test['variety']"
   ]
  },
  {
   "cell_type": "code",
   "execution_count": 203,
   "metadata": {},
   "outputs": [],
   "source": [
    "vecto = CountVectorizer(stop_words=full_stops)"
   ]
  },
  {
   "cell_type": "code",
   "execution_count": 204,
   "metadata": {},
   "outputs": [
    {
     "name": "stderr",
     "output_type": "stream",
     "text": [
      "/Users/ianhetterich/anaconda3/lib/python3.8/site-packages/sklearn/feature_extraction/text.py:383: UserWarning: Your stop_words may be inconsistent with your preprocessing. Tokenizing the stop words generated tokens ['affile', 'alexandrie', 'aunis', 'avola', 'oeil', 'rondinella', 'st'] not in stop_words.\n",
      "  warnings.warn('Your stop_words may be inconsistent with '\n"
     ]
    }
   ],
   "source": [
    "X = vecto.fit_transform(X)"
   ]
  },
  {
   "cell_type": "code",
   "execution_count": 205,
   "metadata": {},
   "outputs": [],
   "source": [
    "naive = MultinomialNB()"
   ]
  },
  {
   "cell_type": "code",
   "execution_count": 206,
   "metadata": {},
   "outputs": [],
   "source": [
    "X_train, X_test, y_train, y_test = train_test_split(X, y)"
   ]
  },
  {
   "cell_type": "code",
   "execution_count": 207,
   "metadata": {},
   "outputs": [
    {
     "data": {
      "text/plain": [
       "MultinomialNB()"
      ]
     },
     "execution_count": 207,
     "metadata": {},
     "output_type": "execute_result"
    }
   ],
   "source": [
    "naive.fit(X_train, y_train)"
   ]
  },
  {
   "cell_type": "code",
   "execution_count": 208,
   "metadata": {},
   "outputs": [
    {
     "data": {
      "text/plain": [
       "0.981121163299872"
      ]
     },
     "execution_count": 208,
     "metadata": {},
     "output_type": "execute_result"
    }
   ],
   "source": [
    "naive.score(X_train, y_train)"
   ]
  },
  {
   "cell_type": "code",
   "execution_count": 209,
   "metadata": {},
   "outputs": [
    {
     "data": {
      "text/plain": [
       "0.9729830214400793"
      ]
     },
     "execution_count": 209,
     "metadata": {},
     "output_type": "execute_result"
    }
   ],
   "source": [
    "naive.score(X_test, y_test)"
   ]
  },
  {
   "cell_type": "code",
   "execution_count": 211,
   "metadata": {},
   "outputs": [],
   "source": [
    "rand_forest = RandomForestClassifier()"
   ]
  },
  {
   "cell_type": "code",
   "execution_count": 212,
   "metadata": {},
   "outputs": [
    {
     "data": {
      "text/plain": [
       "RandomForestClassifier()"
      ]
     },
     "execution_count": 212,
     "metadata": {},
     "output_type": "execute_result"
    }
   ],
   "source": [
    "rand_forest.fit(X_train, y_train)"
   ]
  },
  {
   "cell_type": "code",
   "execution_count": 213,
   "metadata": {},
   "outputs": [
    {
     "data": {
      "text/plain": [
       "1.0"
      ]
     },
     "execution_count": 213,
     "metadata": {},
     "output_type": "execute_result"
    }
   ],
   "source": [
    "rand_forest.score(X_train, y_train)"
   ]
  },
  {
   "cell_type": "code",
   "execution_count": 214,
   "metadata": {},
   "outputs": [
    {
     "data": {
      "text/plain": [
       "0.9748419878547527"
      ]
     },
     "execution_count": 214,
     "metadata": {},
     "output_type": "execute_result"
    }
   ],
   "source": [
    "rand_forest.score(X_test, y_test)"
   ]
  }
 ],
 "metadata": {
  "kernelspec": {
   "display_name": "Python 3",
   "language": "python",
   "name": "python3"
  },
  "language_info": {
   "codemirror_mode": {
    "name": "ipython",
    "version": 3
   },
   "file_extension": ".py",
   "mimetype": "text/x-python",
   "name": "python",
   "nbconvert_exporter": "python",
   "pygments_lexer": "ipython3",
   "version": "3.8.2"
  }
 },
 "nbformat": 4,
 "nbformat_minor": 4
}
