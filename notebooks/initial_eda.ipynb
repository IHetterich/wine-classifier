{
 "cells": [
  {
   "cell_type": "code",
   "execution_count": 72,
   "metadata": {},
   "outputs": [],
   "source": [
    "import numpy as np\n",
    "import pandas as pd\n",
    "import matplotlib.pyplot as plt\n"
   ]
  },
  {
   "cell_type": "code",
   "execution_count": 73,
   "metadata": {},
   "outputs": [],
   "source": [
    "df1 = pd.read_csv('../data/winemag-data-130k-v2.csv')\n",
    "df2 = pd.read_csv('../data/winemag-data_first150k.csv')"
   ]
  },
  {
   "cell_type": "code",
   "execution_count": 74,
   "metadata": {},
   "outputs": [
    {
     "data": {
      "text/plain": [
       "count                                                129971\n",
       "unique                                               119955\n",
       "top       Stalky aromas suggest hay and green herbs, wit...\n",
       "freq                                                      3\n",
       "Name: description, dtype: object"
      ]
     },
     "execution_count": 74,
     "metadata": {},
     "output_type": "execute_result"
    }
   ],
   "source": [
    "df1['description'].describe()"
   ]
  },
  {
   "cell_type": "code",
   "execution_count": 75,
   "metadata": {},
   "outputs": [],
   "source": [
    "clean_df1 = df1.drop_duplicates(subset='description')"
   ]
  },
  {
   "cell_type": "code",
   "execution_count": 76,
   "metadata": {},
   "outputs": [],
   "source": [
    "clean_df2 = df2.drop_duplicates(subset='description')"
   ]
  },
  {
   "cell_type": "code",
   "execution_count": 77,
   "metadata": {},
   "outputs": [],
   "source": [
    "df3 = pd.concat([clean_df1, clean_df2])"
   ]
  },
  {
   "cell_type": "code",
   "execution_count": 78,
   "metadata": {},
   "outputs": [],
   "source": [
    "df4 = df3.drop_duplicates(subset='description')"
   ]
  },
  {
   "cell_type": "code",
   "execution_count": 80,
   "metadata": {},
   "outputs": [],
   "source": [
    "df4[['description', 'variety']].to_csv('../data/no_dup_data.csv')"
   ]
  },
  {
   "cell_type": "code",
   "execution_count": 12,
   "metadata": {},
   "outputs": [],
   "source": [
    "df = df4"
   ]
  },
  {
   "cell_type": "code",
   "execution_count": 95,
   "metadata": {},
   "outputs": [],
   "source": [
    "from collections import Counter"
   ]
  },
  {
   "cell_type": "code",
   "execution_count": 96,
   "metadata": {},
   "outputs": [],
   "source": [
    "var = Counter()"
   ]
  },
  {
   "cell_type": "code",
   "execution_count": 97,
   "metadata": {},
   "outputs": [],
   "source": [
    "var.update(df['variety'])"
   ]
  },
  {
   "cell_type": "code",
   "execution_count": 98,
   "metadata": {},
   "outputs": [],
   "source": [
    "varietals = list(var.keys())\n",
    "counts = list(var.values())\n"
   ]
  },
  {
   "cell_type": "code",
   "execution_count": 99,
   "metadata": {},
   "outputs": [
    {
     "name": "stdout",
     "output_type": "stream",
     "text": [
      "Pinot Noir: 16651\n",
      "Chardonnay: 15625\n",
      "Cabernet Sauvignon: 13262\n",
      "Red Blend: 11214\n",
      "Bordeaux-style Red Blend: 8997\n",
      "Sauvignon Blanc: 6803\n",
      "Riesling: 6602\n",
      "Syrah: 5856\n",
      "Merlot: 4757\n",
      "Rosé: 3916\n",
      "Zinfandel: 3804\n",
      "Sangiovese: 3634\n",
      "Malbec: 3439\n",
      "Nebbiolo: 3123\n",
      "White Blend: 3110\n"
     ]
    }
   ],
   "source": [
    "idx = np.argsort(counts)\n",
    "test_vars = []\n",
    "for val in idx[-1:-16:-1]:\n",
    "    print(f'{varietals[val]}: {counts[val]}')\n",
    "    test_vars.append(varietals[val])"
   ]
  },
  {
   "cell_type": "code",
   "execution_count": 40,
   "metadata": {},
   "outputs": [
    {
     "data": {
      "text/plain": [
       "110793"
      ]
     },
     "execution_count": 40,
     "metadata": {},
     "output_type": "execute_result"
    }
   ],
   "source": [
    "3110+3123+3439+3634+3804+3916+4757+5856+6602+6803+8997+11214+13262+15625+16651"
   ]
  },
  {
   "cell_type": "code",
   "execution_count": 3,
   "metadata": {},
   "outputs": [
    {
     "data": {
      "text/plain": [
       "0.6308032815912176"
      ]
     },
     "execution_count": 3,
     "metadata": {},
     "output_type": "execute_result"
    }
   ],
   "source": [
    "(110793 - 3916)/169430"
   ]
  },
  {
   "cell_type": "code",
   "execution_count": 14,
   "metadata": {},
   "outputs": [],
   "source": [
    "df = df[['description', 'variety']]"
   ]
  },
  {
   "cell_type": "code",
   "execution_count": 119,
   "metadata": {},
   "outputs": [],
   "source": [
    "varieties = set((df['variety']))\n",
    "\n",
    "# for var in varieties:\n",
    "#     var = str(var)\n",
    "# varieties = ' '.join(varieties)\n",
    "# from nltk.corpus import stopwords\n",
    "# eng_stops = set(stopwords.words('english'))"
   ]
  },
  {
   "cell_type": "code",
   "execution_count": 22,
   "metadata": {},
   "outputs": [],
   "source": [
    "full_stops = eng_stops.union(varieties)"
   ]
  },
  {
   "cell_type": "code",
   "execution_count": 84,
   "metadata": {},
   "outputs": [],
   "source": [
    "df = pd.read_csv('../data/no_dup_data.csv').drop('Unnamed: 0', axis=1)"
   ]
  },
  {
   "cell_type": "code",
   "execution_count": 86,
   "metadata": {},
   "outputs": [
    {
     "data": {
      "text/html": [
       "<div>\n",
       "<style scoped>\n",
       "    .dataframe tbody tr th:only-of-type {\n",
       "        vertical-align: middle;\n",
       "    }\n",
       "\n",
       "    .dataframe tbody tr th {\n",
       "        vertical-align: top;\n",
       "    }\n",
       "\n",
       "    .dataframe thead th {\n",
       "        text-align: right;\n",
       "    }\n",
       "</style>\n",
       "<table border=\"1\" class=\"dataframe\">\n",
       "  <thead>\n",
       "    <tr style=\"text-align: right;\">\n",
       "      <th></th>\n",
       "      <th>description</th>\n",
       "      <th>variety</th>\n",
       "    </tr>\n",
       "  </thead>\n",
       "  <tbody>\n",
       "    <tr>\n",
       "      <th>0</th>\n",
       "      <td>Aromas include tropical fruit, broom, brimston...</td>\n",
       "      <td>White Blend</td>\n",
       "    </tr>\n",
       "    <tr>\n",
       "      <th>1</th>\n",
       "      <td>This is ripe and fruity, a wine that is smooth...</td>\n",
       "      <td>Portuguese Red</td>\n",
       "    </tr>\n",
       "    <tr>\n",
       "      <th>2</th>\n",
       "      <td>Tart and snappy, the flavors of lime flesh and...</td>\n",
       "      <td>Pinot Gris</td>\n",
       "    </tr>\n",
       "    <tr>\n",
       "      <th>3</th>\n",
       "      <td>Pineapple rind, lemon pith and orange blossom ...</td>\n",
       "      <td>Riesling</td>\n",
       "    </tr>\n",
       "    <tr>\n",
       "      <th>4</th>\n",
       "      <td>Much like the regular bottling from 2012, this...</td>\n",
       "      <td>Pinot Noir</td>\n",
       "    </tr>\n",
       "    <tr>\n",
       "      <th>...</th>\n",
       "      <td>...</td>\n",
       "      <td>...</td>\n",
       "    </tr>\n",
       "    <tr>\n",
       "      <th>169425</th>\n",
       "      <td>A Syrah-Grenache blend that's dry and rustical...</td>\n",
       "      <td>Syrah-Grenache</td>\n",
       "    </tr>\n",
       "    <tr>\n",
       "      <th>169426</th>\n",
       "      <td>Oreo eaters will enjoy the aromas of this wine...</td>\n",
       "      <td>Port</td>\n",
       "    </tr>\n",
       "    <tr>\n",
       "      <th>169427</th>\n",
       "      <td>Outside of the vineyard, wines like this are w...</td>\n",
       "      <td>Merlot</td>\n",
       "    </tr>\n",
       "    <tr>\n",
       "      <th>169428</th>\n",
       "      <td>Heavy and basic, with melon and pineapple arom...</td>\n",
       "      <td>Sauvignon Blanc</td>\n",
       "    </tr>\n",
       "    <tr>\n",
       "      <th>169429</th>\n",
       "      <td>Smooth in the mouth, this Chard starts off wit...</td>\n",
       "      <td>Chardonnay</td>\n",
       "    </tr>\n",
       "  </tbody>\n",
       "</table>\n",
       "<p>169430 rows × 2 columns</p>\n",
       "</div>"
      ],
      "text/plain": [
       "                                              description          variety\n",
       "0       Aromas include tropical fruit, broom, brimston...      White Blend\n",
       "1       This is ripe and fruity, a wine that is smooth...   Portuguese Red\n",
       "2       Tart and snappy, the flavors of lime flesh and...       Pinot Gris\n",
       "3       Pineapple rind, lemon pith and orange blossom ...         Riesling\n",
       "4       Much like the regular bottling from 2012, this...       Pinot Noir\n",
       "...                                                   ...              ...\n",
       "169425  A Syrah-Grenache blend that's dry and rustical...   Syrah-Grenache\n",
       "169426  Oreo eaters will enjoy the aromas of this wine...             Port\n",
       "169427  Outside of the vineyard, wines like this are w...           Merlot\n",
       "169428  Heavy and basic, with melon and pineapple arom...  Sauvignon Blanc\n",
       "169429  Smooth in the mouth, this Chard starts off wit...       Chardonnay\n",
       "\n",
       "[169430 rows x 2 columns]"
      ]
     },
     "execution_count": 86,
     "metadata": {},
     "output_type": "execute_result"
    }
   ],
   "source": [
    "df"
   ]
  },
  {
   "cell_type": "code",
   "execution_count": 89,
   "metadata": {},
   "outputs": [],
   "source": [
    "df.dropna(inplace=True)"
   ]
  },
  {
   "cell_type": "code",
   "execution_count": 113,
   "metadata": {},
   "outputs": [],
   "source": [
    "varieties = list(df['variety'])"
   ]
  },
  {
   "cell_type": "code",
   "execution_count": 114,
   "metadata": {},
   "outputs": [],
   "source": [
    "varieties = set(' '.join(varieties).lower().replace('-','').split())\n",
    "varieties.remove('apple')\n"
   ]
  },
  {
   "cell_type": "code",
   "execution_count": 137,
   "metadata": {},
   "outputs": [],
   "source": [
    "full_stops = list(eng_stops.union(varieties).union('chard'))"
   ]
  },
  {
   "cell_type": "code",
   "execution_count": 132,
   "metadata": {},
   "outputs": [],
   "source": [
    "from sklearn.feature_extraction.text import CountVectorizer\n",
    "from sklearn.naive_bayes import MultinomialNB\n",
    "from sklearn.model_selection import train_test_split"
   ]
  },
  {
   "cell_type": "code",
   "execution_count": 125,
   "metadata": {},
   "outputs": [],
   "source": [
    "df_test = df[(df['variety'] == 'Pinot Noir') | (df['variety'] == 'Chardonnay')]"
   ]
  },
  {
   "cell_type": "code",
   "execution_count": 127,
   "metadata": {},
   "outputs": [],
   "source": [
    "X = df_test['description']\n",
    "y = df_test['variety']"
   ]
  },
  {
   "cell_type": "code",
   "execution_count": 138,
   "metadata": {},
   "outputs": [],
   "source": [
    "vecto = CountVectorizer(stop_words=full_stops)"
   ]
  },
  {
   "cell_type": "code",
   "execution_count": 139,
   "metadata": {},
   "outputs": [
    {
     "name": "stderr",
     "output_type": "stream",
     "text": [
      "/Users/ianhetterich/anaconda3/lib/python3.8/site-packages/sklearn/feature_extraction/text.py:383: UserWarning: Your stop_words may be inconsistent with your preprocessing. Tokenizing the stop words generated tokens ['abouriou', 'affile', 'agiorgitiko', 'aglianico', 'aidani', 'airen', 'albana', 'albanello', 'albariño', 'albarossa', 'albarín', 'aleatico', 'alejandría', 'alexandria', 'alexandrie', 'alfrocheiro', 'alicante', 'aligoté', 'alsace', 'altesse', 'alvarelhão', 'alvarinho', 'amarela', 'angevine', 'ansonica', 'antão', 'apple', 'aragonez', 'aragonês', 'argaman', 'arinto', 'arneis', 'asprinio', 'assyrtico', 'assyrtiko', 'athiri', 'aunis', 'austrian', 'auxerrois', 'avesso', 'avola', 'azal', 'babić', 'babosa', 'bacchus', 'baco', 'baga', 'barbera', 'barroca', 'bastardo', 'bianca', 'biancale', 'bianco', 'biancolella', 'biancu', 'bical', 'black', 'blanc', 'blanca', 'blanche', 'blanco', 'blatina', 'blauburger', 'blauburgunder', 'blauer', 'blaufränkisch', 'blend', 'bobal', 'bois', 'bombino', 'bonarda', 'bordeaux', 'bouschet', 'bovale', 'boğazkere', 'brachetto', 'braucol', 'bual', 'bukettraube', 'cabernet', 'canaiolo', 'candia', 'canelli', 'cannonau', 'cao', 'cappuccio', 'caprettone', 'carcajolu', 'carignan', 'carignane', 'carignano', 'carineña', 'cariñena', 'carmenère', 'carménère', 'carnelian', 'carricante', 'casavecchia', 'castelão', 'catalanesca', 'catarratto', 'cayuga', 'centesimino', 'cerceal', 'cercial', 'cesanese', 'chambourcin', 'champagne', 'chancellor', 'charbono', 'chardonel', 'chardonelle', 'chardonnay', 'chasselas', 'chelois', 'chenin', 'chinuri', 'ciliegiolo', 'cinsault', 'clairette', 'claret', 'cococciola', 'coda', 'colombard', 'colorino', 'cortese', 'corvina', 'counoise', 'courbu', 'crespiello', 'cserszegi', 'códega', 'dafni', 'de', 'debit', 'del', 'di', 'diamond', 'dolcetto', 'dornfelder', 'doña', 'du', 'duras', 'durella', 'durello', 'durif', 'edelzwicker', 'ekigaïna', 'elbling', 'emir', 'enantio', 'encruzado', 'erbaluce', 'espadeiro', 'falanghina', 'favorita', 'fer', 'fernão', 'feteasca', 'feteascǎ', 'fiano', 'fina', 'fino', 'foch', 'folle', 'forcallà', 'franc', 'franca', 'francisa', 'francisca', 'franconia', 'frankovka', 'frappato', 'freisa', 'friulano', 'früburgunder', 'fumé', 'furmint', 'fűszeres', 'gaglioppo', 'gamay', 'gamza', 'garganega', 'garnacha', 'gelber', 'gentile', 'george', 'gewürztraminer', 'gialla', 'giallo', 'glera', 'godello', 'gomes', 'gouveio', 'graciano', 'gragnano', 'grain', 'grains', 'grasparossa', 'grauburgunder', 'graúdo', 'graševina', 'grecanico', 'grechetto', 'greco', 'grenache', 'grigio', 'grignolino', 'grillo', 'gris', 'grolleau', 'groppello', 'gros', 'grosso', 'grüner', 'hamburg', 'hondarrabi', 'huxelrebe', 'hárslevelü', 'incrocio', 'insolia', 'inzolia', 'irsai', 'istriana', 'jacquez', 'jacquère', 'jaen', 'jampal', 'johannisberg', 'kadarka', 'kalecik', 'kallmet', 'kangoun', 'karalahna', 'karasakiz', 'karasi', 'kekfrankos', 'kerner', 'kinali', 'királyleányka', 'kisi', 'koshu', 'kotsifali', 'kuntra', 'lacrima', 'lagrein', 'lambrusco', 'larinho', 'laurent', 'lemberger', 'listán', 'lo', 'loin', 'loureiro', 'lugana', 'macabeo', 'madeira', 'madeleine', 'magliocco', 'malagousia', 'malagouzia', 'malbec', 'mali', 'malmsey', 'malvar', 'malvasia', 'malvazija', 'malvoisie', 'mandilaria', 'manseng', 'mansois', 'mantonico', 'manzoni', 'marawi', 'maria', 'marquette', 'marsanne', 'marselan', 'marzemino', 'maréchal', 'mascalese', 'mataro', 'maturana', 'mauzac', 'mavrodaphne', 'mavrokalavryta', 'mavrotragano', 'mavroudi', 'mavrud', 'mazuelo', 'melnik', 'melon', 'mencía', 'meoru', 'meritage', 'merlot', 'merseguera', 'meseguera', 'meslier', 'meunier', 'misket', 'mission', 'miúda', 'mole', 'molinara', 'monastrell', 'mondeuse', 'monica', 'montepulciano', 'monukka', 'morava', 'moravia', 'morillon', 'morio', 'moristel', 'moscadello', 'moscatel', 'moscato', 'moschofilero', 'moscofilero', 'mourvèdre', 'mtsvane', 'muscadel', 'muscadelle', 'muscadet', 'muscadine', 'muscat', 'muscatel', 'muskat', 'muskateller', 'musqué', 'müller', 'nacional', 'narince', 'nascetta', 'nasco', 'neagra', 'nebbiolo', 'negra', 'negrette', 'negro', 'negroamaro', 'nera', 'nerello', 'nero', 'neuburger', 'nielluciu', 'noir', 'norton', 'nosiola', 'noto', 'nuragus', 'oeil', 'ojaleshi', 'okuzgozu', 'oliver', 'ondenc', 'orange', 'orangetraube', 'otskhanuri', 'ottonel', 'pais', 'pallagrello', 'palomino', 'pansa', 'papaskarasi', 'paralleda', 'pardina', 'parraleta', 'passerina', 'país', 'pecorino', 'pedro', 'pelaverga', 'perdrix', 'perricone', 'petit', 'petite', 'petits', 'petroulianos', 'pfeffer', 'picapoll', 'piccolo', 'picolit', 'picpoul', 'picudo', 'pied', 'piedirosso', 'pigato', 'pignoletto', 'pignolo', 'pineau', 'pinela', 'pinot', 'pinotage', 'piquepoul', 'pires', 'plant', 'plavac', 'plyto', 'port', 'portugieser', 'portuguese', 'portuguiser', 'posip', 'poulsard', 'premsal', 'prieto', 'primitivo', 'prié', 'prokupac', 'prosecco', 'provence', 'prugnolo', 'prunelard', 'pugnitello', 'rabigato', 'raboso', 'ramisco', 'rara', 'rebo', 'rebula', 'red', 'refosco', 'regalǎ', 'rhône', 'ribolla', 'rieslaner', 'riesling', 'rivaner', 'rkatsiteli', 'robola', 'roditis', 'rolle', 'romorantin', 'românească', 'rondinella', 'roriz', 'rosa', 'rosado', 'rosato', 'roscetto', 'rosenmuskateller', 'rosso', 'rosé', 'rotaliano', 'roter', 'rotgipfler', 'roussanne', 'roviello', 'roxo', 'ruché', 'ruen', 'rufete', 'ryzlink', 'rýnský', 'sacy', 'sagrantino', 'salamino', 'sangiovese', 'saperavi', 'sapere', 'sarba', 'sauvignon', 'sauvignonasse', 'savagnin', 'savatiano', 'scheurebe', 'schiava', 'schwartzriesling', 'sciaccerellu', 'segalin', 'semillon', 'sercial', 'servadou', 'seyval', 'sherry', 'shiraz', 'sideritis', 'siegerrebe', 'silvaner', 'sirah', 'siria', 'sirica', 'sorbara', 'sousão', 'souzao', 'sparkling', 'spoletino', 'spätburgunder', 'st', 'steen', 'style', 'susumaniello', 'sylvaner', 'symphony', 'syrah', 'sämling', 'sémillon', 'tai', 'tamianka', 'tamjanika', 'tannat', 'tempranillo', 'teran', 'teroldego', 'terrantez', 'terret', 'thrapsathiri', 'thurgau', 'timorasso', 'tinta', 'tintilia', 'tinto', 'tintorera', 'tocai', 'tokaji', 'tokay', 'torbato', 'toro', 'torontel', 'torrontés', 'touriga', 'trajadura', 'traminer', 'traminette', 'trebbiano', 'treixadura', 'trepat', 'trincadeira', 'troia', 'trollinger', 'trousseau', 'tsapournakos', 'tsolikouri', 'turbiana', 'tămâioasă', 'ugni', 'uva', 'uvalino', 'valdiguié', 'valvin', 'vaz', 'velasco', 'veltliner', 'verdeca', 'verdejo', 'verdelho', 'verdicchio', 'verdil', 'verdosilla', 'verdot', 'verduzzo', 'vermentino', 'vernaccia', 'vespaiolo', 'vespolina', 'vidadillo', 'vidal', 'vignoles', 'vilana', 'vincent', 'vinhão', 'viognier', 'viosinho', 'vital', 'vitovska', 'viura', 'volpe', 'vranac', 'vranec', 'weissburgunder', 'welschriesling', 'white', 'xarel', 'ximénez', 'xinisteri', 'xinomavro', 'xynisteri', 'yapincak', 'zelen', 'zibibbo', 'zierfandler', 'zinfandel', 'zlahtina', 'zuri', 'zweigelt', 'çalkarası', 'žilavka'] not in stop_words.\n",
      "  warnings.warn('Your stop_words may be inconsistent with '\n"
     ]
    },
    {
     "ename": "AttributeError",
     "evalue": "lower not found",
     "output_type": "error",
     "traceback": [
      "\u001b[0;31m---------------------------------------------------------------------------\u001b[0m",
      "\u001b[0;31mAttributeError\u001b[0m                            Traceback (most recent call last)",
      "\u001b[0;32m<ipython-input-139-b38f3c3c4879>\u001b[0m in \u001b[0;36m<module>\u001b[0;34m\u001b[0m\n\u001b[0;32m----> 1\u001b[0;31m \u001b[0mX\u001b[0m \u001b[0;34m=\u001b[0m \u001b[0mvecto\u001b[0m\u001b[0;34m.\u001b[0m\u001b[0mfit_transform\u001b[0m\u001b[0;34m(\u001b[0m\u001b[0mX\u001b[0m\u001b[0;34m)\u001b[0m\u001b[0;34m\u001b[0m\u001b[0;34m\u001b[0m\u001b[0m\n\u001b[0m",
      "\u001b[0;32m~/anaconda3/lib/python3.8/site-packages/sklearn/feature_extraction/text.py\u001b[0m in \u001b[0;36mfit_transform\u001b[0;34m(self, raw_documents, y)\u001b[0m\n\u001b[1;32m   1196\u001b[0m         \u001b[0mmax_features\u001b[0m \u001b[0;34m=\u001b[0m \u001b[0mself\u001b[0m\u001b[0;34m.\u001b[0m\u001b[0mmax_features\u001b[0m\u001b[0;34m\u001b[0m\u001b[0;34m\u001b[0m\u001b[0m\n\u001b[1;32m   1197\u001b[0m \u001b[0;34m\u001b[0m\u001b[0m\n\u001b[0;32m-> 1198\u001b[0;31m         vocabulary, X = self._count_vocab(raw_documents,\n\u001b[0m\u001b[1;32m   1199\u001b[0m                                           self.fixed_vocabulary_)\n\u001b[1;32m   1200\u001b[0m \u001b[0;34m\u001b[0m\u001b[0m\n",
      "\u001b[0;32m~/anaconda3/lib/python3.8/site-packages/sklearn/feature_extraction/text.py\u001b[0m in \u001b[0;36m_count_vocab\u001b[0;34m(self, raw_documents, fixed_vocab)\u001b[0m\n\u001b[1;32m   1108\u001b[0m         \u001b[0;32mfor\u001b[0m \u001b[0mdoc\u001b[0m \u001b[0;32min\u001b[0m \u001b[0mraw_documents\u001b[0m\u001b[0;34m:\u001b[0m\u001b[0;34m\u001b[0m\u001b[0;34m\u001b[0m\u001b[0m\n\u001b[1;32m   1109\u001b[0m             \u001b[0mfeature_counter\u001b[0m \u001b[0;34m=\u001b[0m \u001b[0;34m{\u001b[0m\u001b[0;34m}\u001b[0m\u001b[0;34m\u001b[0m\u001b[0;34m\u001b[0m\u001b[0m\n\u001b[0;32m-> 1110\u001b[0;31m             \u001b[0;32mfor\u001b[0m \u001b[0mfeature\u001b[0m \u001b[0;32min\u001b[0m \u001b[0manalyze\u001b[0m\u001b[0;34m(\u001b[0m\u001b[0mdoc\u001b[0m\u001b[0;34m)\u001b[0m\u001b[0;34m:\u001b[0m\u001b[0;34m\u001b[0m\u001b[0;34m\u001b[0m\u001b[0m\n\u001b[0m\u001b[1;32m   1111\u001b[0m                 \u001b[0;32mtry\u001b[0m\u001b[0;34m:\u001b[0m\u001b[0;34m\u001b[0m\u001b[0;34m\u001b[0m\u001b[0m\n\u001b[1;32m   1112\u001b[0m                     \u001b[0mfeature_idx\u001b[0m \u001b[0;34m=\u001b[0m \u001b[0mvocabulary\u001b[0m\u001b[0;34m[\u001b[0m\u001b[0mfeature\u001b[0m\u001b[0;34m]\u001b[0m\u001b[0;34m\u001b[0m\u001b[0;34m\u001b[0m\u001b[0m\n",
      "\u001b[0;32m~/anaconda3/lib/python3.8/site-packages/sklearn/feature_extraction/text.py\u001b[0m in \u001b[0;36m_analyze\u001b[0;34m(doc, analyzer, tokenizer, ngrams, preprocessor, decoder, stop_words)\u001b[0m\n\u001b[1;32m    102\u001b[0m     \u001b[0;32melse\u001b[0m\u001b[0;34m:\u001b[0m\u001b[0;34m\u001b[0m\u001b[0;34m\u001b[0m\u001b[0m\n\u001b[1;32m    103\u001b[0m         \u001b[0;32mif\u001b[0m \u001b[0mpreprocessor\u001b[0m \u001b[0;32mis\u001b[0m \u001b[0;32mnot\u001b[0m \u001b[0;32mNone\u001b[0m\u001b[0;34m:\u001b[0m\u001b[0;34m\u001b[0m\u001b[0;34m\u001b[0m\u001b[0m\n\u001b[0;32m--> 104\u001b[0;31m             \u001b[0mdoc\u001b[0m \u001b[0;34m=\u001b[0m \u001b[0mpreprocessor\u001b[0m\u001b[0;34m(\u001b[0m\u001b[0mdoc\u001b[0m\u001b[0;34m)\u001b[0m\u001b[0;34m\u001b[0m\u001b[0;34m\u001b[0m\u001b[0m\n\u001b[0m\u001b[1;32m    105\u001b[0m         \u001b[0;32mif\u001b[0m \u001b[0mtokenizer\u001b[0m \u001b[0;32mis\u001b[0m \u001b[0;32mnot\u001b[0m \u001b[0;32mNone\u001b[0m\u001b[0;34m:\u001b[0m\u001b[0;34m\u001b[0m\u001b[0;34m\u001b[0m\u001b[0m\n\u001b[1;32m    106\u001b[0m             \u001b[0mdoc\u001b[0m \u001b[0;34m=\u001b[0m \u001b[0mtokenizer\u001b[0m\u001b[0;34m(\u001b[0m\u001b[0mdoc\u001b[0m\u001b[0;34m)\u001b[0m\u001b[0;34m\u001b[0m\u001b[0;34m\u001b[0m\u001b[0m\n",
      "\u001b[0;32m~/anaconda3/lib/python3.8/site-packages/sklearn/feature_extraction/text.py\u001b[0m in \u001b[0;36m_preprocess\u001b[0;34m(doc, accent_function, lower)\u001b[0m\n\u001b[1;32m     67\u001b[0m     \"\"\"\n\u001b[1;32m     68\u001b[0m     \u001b[0;32mif\u001b[0m \u001b[0mlower\u001b[0m\u001b[0;34m:\u001b[0m\u001b[0;34m\u001b[0m\u001b[0;34m\u001b[0m\u001b[0m\n\u001b[0;32m---> 69\u001b[0;31m         \u001b[0mdoc\u001b[0m \u001b[0;34m=\u001b[0m \u001b[0mdoc\u001b[0m\u001b[0;34m.\u001b[0m\u001b[0mlower\u001b[0m\u001b[0;34m(\u001b[0m\u001b[0;34m)\u001b[0m\u001b[0;34m\u001b[0m\u001b[0;34m\u001b[0m\u001b[0m\n\u001b[0m\u001b[1;32m     70\u001b[0m     \u001b[0;32mif\u001b[0m \u001b[0maccent_function\u001b[0m \u001b[0;32mis\u001b[0m \u001b[0;32mnot\u001b[0m \u001b[0;32mNone\u001b[0m\u001b[0;34m:\u001b[0m\u001b[0;34m\u001b[0m\u001b[0;34m\u001b[0m\u001b[0m\n\u001b[1;32m     71\u001b[0m         \u001b[0mdoc\u001b[0m \u001b[0;34m=\u001b[0m \u001b[0maccent_function\u001b[0m\u001b[0;34m(\u001b[0m\u001b[0mdoc\u001b[0m\u001b[0;34m)\u001b[0m\u001b[0;34m\u001b[0m\u001b[0;34m\u001b[0m\u001b[0m\n",
      "\u001b[0;32m~/anaconda3/lib/python3.8/site-packages/scipy/sparse/base.py\u001b[0m in \u001b[0;36m__getattr__\u001b[0;34m(self, attr)\u001b[0m\n\u001b[1;32m    685\u001b[0m             \u001b[0;32mreturn\u001b[0m \u001b[0mself\u001b[0m\u001b[0;34m.\u001b[0m\u001b[0mgetnnz\u001b[0m\u001b[0;34m(\u001b[0m\u001b[0;34m)\u001b[0m\u001b[0;34m\u001b[0m\u001b[0;34m\u001b[0m\u001b[0m\n\u001b[1;32m    686\u001b[0m         \u001b[0;32melse\u001b[0m\u001b[0;34m:\u001b[0m\u001b[0;34m\u001b[0m\u001b[0;34m\u001b[0m\u001b[0m\n\u001b[0;32m--> 687\u001b[0;31m             \u001b[0;32mraise\u001b[0m \u001b[0mAttributeError\u001b[0m\u001b[0;34m(\u001b[0m\u001b[0mattr\u001b[0m \u001b[0;34m+\u001b[0m \u001b[0;34m\" not found\"\u001b[0m\u001b[0;34m)\u001b[0m\u001b[0;34m\u001b[0m\u001b[0;34m\u001b[0m\u001b[0m\n\u001b[0m\u001b[1;32m    688\u001b[0m \u001b[0;34m\u001b[0m\u001b[0m\n\u001b[1;32m    689\u001b[0m     \u001b[0;32mdef\u001b[0m \u001b[0mtranspose\u001b[0m\u001b[0;34m(\u001b[0m\u001b[0mself\u001b[0m\u001b[0;34m,\u001b[0m \u001b[0maxes\u001b[0m\u001b[0;34m=\u001b[0m\u001b[0;32mNone\u001b[0m\u001b[0;34m,\u001b[0m \u001b[0mcopy\u001b[0m\u001b[0;34m=\u001b[0m\u001b[0;32mFalse\u001b[0m\u001b[0;34m)\u001b[0m\u001b[0;34m:\u001b[0m\u001b[0;34m\u001b[0m\u001b[0;34m\u001b[0m\u001b[0m\n",
      "\u001b[0;31mAttributeError\u001b[0m: lower not found"
     ]
    }
   ],
   "source": [
    "X = vecto.fit_transform(X)"
   ]
  },
  {
   "cell_type": "code",
   "execution_count": 140,
   "metadata": {},
   "outputs": [],
   "source": [
    "naive = MultinomialNB()"
   ]
  },
  {
   "cell_type": "code",
   "execution_count": 141,
   "metadata": {},
   "outputs": [],
   "source": [
    "X_train, X_test, y_train, y_test = train_test_split(X, y)"
   ]
  },
  {
   "cell_type": "code",
   "execution_count": 142,
   "metadata": {},
   "outputs": [
    {
     "data": {
      "text/plain": [
       "MultinomialNB()"
      ]
     },
     "execution_count": 142,
     "metadata": {},
     "output_type": "execute_result"
    }
   ],
   "source": [
    "naive.fit(X_train, y_train)"
   ]
  },
  {
   "cell_type": "code",
   "execution_count": 143,
   "metadata": {},
   "outputs": [
    {
     "data": {
      "text/plain": [
       "0.9821126120543644"
      ]
     },
     "execution_count": 143,
     "metadata": {},
     "output_type": "execute_result"
    }
   ],
   "source": [
    "naive.score(X_train, y_train)"
   ]
  },
  {
   "cell_type": "code",
   "execution_count": 144,
   "metadata": {},
   "outputs": [
    {
     "data": {
      "text/plain": [
       "0.9784359895897881"
      ]
     },
     "execution_count": 144,
     "metadata": {},
     "output_type": "execute_result"
    }
   ],
   "source": [
    "naive.score(X_test, y_test)"
   ]
  },
  {
   "cell_type": "code",
   "execution_count": null,
   "metadata": {},
   "outputs": [],
   "source": []
  }
 ],
 "metadata": {
  "kernelspec": {
   "display_name": "Python 3",
   "language": "python",
   "name": "python3"
  },
  "language_info": {
   "codemirror_mode": {
    "name": "ipython",
    "version": 3
   },
   "file_extension": ".py",
   "mimetype": "text/x-python",
   "name": "python",
   "nbconvert_exporter": "python",
   "pygments_lexer": "ipython3",
   "version": "3.8.2"
  }
 },
 "nbformat": 4,
 "nbformat_minor": 4
}
